{
 "cells": [
  {
   "cell_type": "code",
   "execution_count": 1,
   "id": "ec7d0127",
   "metadata": {},
   "outputs": [],
   "source": [
    "from pytube import YouTube\n",
    "import os\n",
    "import cv2\n",
    "import ffmpeg"
   ]
  },
  {
   "cell_type": "code",
   "execution_count": 4,
   "id": "9957ee58",
   "metadata": {},
   "outputs": [
    {
     "name": "stdout",
     "output_type": "stream",
     "text": [
      "Enter a link: https://www.youtube.com/watch?v=NYDUf_0FNzQ&list=LL&index=14\n"
     ]
    }
   ],
   "source": [
    "link = input(\"Enter a link: \")\n",
    "yt = YouTube(link)"
   ]
  },
  {
   "cell_type": "code",
   "execution_count": 5,
   "id": "9f84f7ae",
   "metadata": {},
   "outputs": [],
   "source": [
    "ys = yt.streams.get_by_itag('22')"
   ]
  },
  {
   "cell_type": "code",
   "execution_count": 2,
   "id": "8f565126",
   "metadata": {},
   "outputs": [
    {
     "name": "stdout",
     "output_type": "stream",
     "text": [
      "Enter a link: https://www.youtube.com/watch?v=NYDUf_0FNzQ&list=LL&index=14\n"
     ]
    }
   ],
   "source": [
    "# Capture the video from the URL\n",
    "link = input(\"Enter a link: \")\n",
    "yt = YouTube(link)\n",
    "video = yt.streams.first()\n",
    "video.download(\"./\")\n",
    "\n",
    "# Load the video file\n",
    "video_capture = cv2.VideoCapture(video.default_filename)\n",
    "\n",
    "# Save the video file\n",
    "fourcc = cv2.VideoWriter_fourcc(*'mp4v')\n",
    "# output_video = cv2.VideoWriter(\"C:\\Users\\ronni\\Videos\\YouDown\\Cartoonified_vid.mp4\", fourcc, 30.0, (int(video_capture.get(3)), int(video_capture.get(4))))\n",
    "output_video = cv2.VideoWriter(\"C:/Users/ronni/Videos/YouDown/Cartoonified_vid.mp4\",fourcc, 20,(320,180))\n",
    "\n",
    "\n",
    "\n",
    "input_file = ffmpeg.input('input.3gp')\n",
    "output_file = ffmpeg.output(input_file, 'output.mp4')\n",
    "ffmpeg.run(output_file)\n",
    "\n",
    "\n",
    "# Check if the video was successfully captured\n",
    "if not video_capture.isOpened():\n",
    "    print(\"Error opening video\")\n",
    "\n",
    "# Read the video frame by frame\n",
    "success, frame = video_capture.read()\n",
    "\n",
    "while success:\n",
    "    # Cartoonify the frame\n",
    "    cartoon_frame = cv2.stylization(frame, sigma_s=60, sigma_r=0.07)\n",
    "\n",
    "    # Display the cartoonified frame\n",
    "    cv2.imshow(\"Video\", cartoon_frame)\n",
    "\n",
    "    # Check if the user pressed 'q' to quit\n",
    "    if cv2.waitKey(1) & 0xFF == ord('q'):\n",
    "        break\n",
    "\n",
    "    # Read the next frame\n",
    "    success, frame = video_capture.read()\n",
    "\n",
    "# Release the video capture\n",
    "video_capture.release()\n",
    "output_video.release()"
   ]
  },
  {
   "cell_type": "code",
   "execution_count": null,
   "id": "76604e4f",
   "metadata": {},
   "outputs": [],
   "source": []
  }
 ],
 "metadata": {
  "kernelspec": {
   "display_name": "Python 3 (ipykernel)",
   "language": "python",
   "name": "python3"
  },
  "language_info": {
   "codemirror_mode": {
    "name": "ipython",
    "version": 3
   },
   "file_extension": ".py",
   "mimetype": "text/x-python",
   "name": "python",
   "nbconvert_exporter": "python",
   "pygments_lexer": "ipython3",
   "version": "3.9.13"
  }
 },
 "nbformat": 4,
 "nbformat_minor": 5
}
